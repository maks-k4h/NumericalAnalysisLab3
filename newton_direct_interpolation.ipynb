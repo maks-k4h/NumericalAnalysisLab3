{
 "cells": [
  {
   "cell_type": "code",
   "execution_count": 114,
   "metadata": {
    "collapsed": true,
    "ExecuteTime": {
     "start_time": "2023-04-09T20:48:53.077509Z",
     "end_time": "2023-04-09T20:48:53.085492Z"
    }
   },
   "outputs": [],
   "source": [
    "from copy import copy\n",
    "import seaborn as sns\n",
    "import pandas as pd\n",
    "import math"
   ]
  },
  {
   "cell_type": "code",
   "execution_count": 20,
   "outputs": [],
   "source": [
    "def take_samples(a, b, n):\n",
    "    assert a < b and n > 1\n",
    "\n",
    "    def f(x):\n",
    "        return x**3 - 3*x**2 - 17*x + 22 + math.sin(x)\n",
    "\n",
    "    h = (b - a) / (n-1)\n",
    "    table = []\n",
    "    for i in range(n):\n",
    "        xi = a + i*h\n",
    "        table.append((xi, f(xi)))\n",
    "\n",
    "    return table"
   ],
   "metadata": {
    "collapsed": false,
    "ExecuteTime": {
     "start_time": "2023-04-09T19:25:53.799387Z",
     "end_time": "2023-04-09T19:25:53.801789Z"
    }
   }
  },
  {
   "cell_type": "code",
   "execution_count": 44,
   "outputs": [
    {
     "data": {
      "text/plain": "<AxesSubplot: >"
     },
     "execution_count": 44,
     "metadata": {},
     "output_type": "execute_result"
    },
    {
     "data": {
      "text/plain": "<Figure size 640x480 with 1 Axes>",
      "image/png": "[encoded data removed]"
     },
     "metadata": {},
     "output_type": "display_data"
    }
   ],
   "source": [
    "rendering_samples = take_samples(-4, 7, 101)\n",
    "rendering_dataframe = pd.DataFrame(((b, 0) for a, b in rendering_samples), index=[a for a,b in rendering_samples], columns=['y=f(x)', 'y=0'])\n",
    "sns.lineplot(rendering_dataframe)"
   ],
   "metadata": {
    "collapsed": false,
    "ExecuteTime": {
     "start_time": "2023-04-09T19:34:13.110036Z",
     "end_time": "2023-04-09T19:34:13.271582Z"
    }
   }
  },
  {
   "cell_type": "code",
   "execution_count": 54,
   "outputs": [
    {
     "data": {
      "text/plain": "    xi      f(xi)\n0  4.0 -30.756802\n1  4.2 -29.103576\n2  4.4 -26.647602\n3  4.6 -23.337691\n4  4.8 -19.124165\n5  5.0 -13.958924\n6  5.2  -7.795455\n7  5.4  -0.588764\n8  5.6   7.704733\n9  5.8  17.127398",
      "text/html": "<div>\n<style scoped>\n    .dataframe tbody tr th:only-of-type {\n        vertical-align: middle;\n    }\n\n    .dataframe tbody tr th {\n        vertical-align: top;\n    }\n\n    .dataframe thead th {\n        text-align: right;\n    }\n</style>\n<table border=\"1\" class=\"dataframe\">\n  <thead>\n    <tr style=\"text-align: right;\">\n      <th></th>\n      <th>xi</th>\n      <th>f(xi)</th>\n    </tr>\n  </thead>\n  <tbody>\n    <tr>\n      <th>0</th>\n      <td>4.0</td>\n      <td>-30.756802</td>\n    </tr>\n    <tr>\n      <th>1</th>\n      <td>4.2</td>\n      <td>-29.103576</td>\n    </tr>\n    <tr>\n      <th>2</th>\n      <td>4.4</td>\n      <td>-26.647602</td>\n    </tr>\n    <tr>\n      <th>3</th>\n      <td>4.6</td>\n      <td>-23.337691</td>\n    </tr>\n    <tr>\n      <th>4</th>\n      <td>4.8</td>\n      <td>-19.124165</td>\n    </tr>\n    <tr>\n      <th>5</th>\n      <td>5.0</td>\n      <td>-13.958924</td>\n    </tr>\n    <tr>\n      <th>6</th>\n      <td>5.2</td>\n      <td>-7.795455</td>\n    </tr>\n    <tr>\n      <th>7</th>\n      <td>5.4</td>\n      <td>-0.588764</td>\n    </tr>\n    <tr>\n      <th>8</th>\n      <td>5.6</td>\n      <td>7.704733</td>\n    </tr>\n    <tr>\n      <th>9</th>\n      <td>5.8</td>\n      <td>17.127398</td>\n    </tr>\n  </tbody>\n</table>\n</div>"
     },
     "execution_count": 54,
     "metadata": {},
     "output_type": "execute_result"
    }
   ],
   "source": [
    "samples = take_samples(4, 5.8, 10)\n",
    "pd.DataFrame(samples, columns=['xi', 'f(xi)'])"
   ],
   "metadata": {
    "collapsed": false,
    "ExecuteTime": {
     "start_time": "2023-04-09T20:04:18.653090Z",
     "end_time": "2023-04-09T20:04:18.656152Z"
    }
   }
  },
  {
   "cell_type": "code",
   "execution_count": 137,
   "outputs": [],
   "source": [
    "def get_finite_differences(samples, util=False):\n",
    "    table = [[y for x, y in samples]]\n",
    "\n",
    "    for o in range(len(table[0])-1):\n",
    "        new_fd = []\n",
    "        for i in range(len(table[-1]) - 1):\n",
    "            new_fd.append(table[-1][i+1] - table[-1][i])\n",
    "        table.append(new_fd)\n",
    "\n",
    "    if util:\n",
    "        print('\\t{:8}'.format('y'), end='')\n",
    "        for i in range(1, len(table)):\n",
    "            print('{:8}'.format('d' + str(i)), end='')\n",
    "        print()\n",
    "\n",
    "        for i in range(len(table[0])):\n",
    "            for j in range(len(table[0]) - i):\n",
    "                print('{:8.4f}'.format(table[j][i]), end='')\n",
    "            print()\n",
    "\n",
    "    return [df[0] for df in table[1:]]\n"
   ],
   "metadata": {
    "collapsed": false,
    "ExecuteTime": {
     "start_time": "2023-04-09T21:05:21.694128Z",
     "end_time": "2023-04-09T21:05:21.695861Z"
    }
   }
  },
  {
   "cell_type": "code",
   "execution_count": 138,
   "outputs": [
    {
     "name": "stdout",
     "output_type": "stream",
     "text": [
      "\ty       d1      d2      d3      d4      d5      d6      d7      d8      d9      \n",
      "-30.7568  1.6532  0.8027  0.0512 -0.0015 -0.0001  0.0001  0.0000 -0.0000  0.0000\n",
      "-29.1036  2.4560  0.8539  0.0497 -0.0016 -0.0000  0.0001 -0.0000 -0.0000\n",
      "-26.6476  3.3099  0.9036  0.0481 -0.0016  0.0001  0.0001 -0.0000\n",
      "-23.3377  4.2135  0.9517  0.0465 -0.0015  0.0001  0.0001\n",
      "-19.1242  5.1652  0.9982  0.0450 -0.0014  0.0002\n",
      "-13.9589  6.1635  1.0432  0.0436 -0.0012\n",
      " -7.7955  7.2067  1.0868  0.0424\n",
      " -0.5888  8.2935  1.1292\n",
      "  7.7047  9.4227\n",
      " 17.1274\n"
     ]
    }
   ],
   "source": [
    "fds = get_finite_differences(samples, util=True)"
   ],
   "metadata": {
    "collapsed": false,
    "ExecuteTime": {
     "start_time": "2023-04-09T21:05:23.028918Z",
     "end_time": "2023-04-09T21:05:23.034137Z"
    }
   }
  },
  {
   "cell_type": "code",
   "execution_count": 139,
   "outputs": [],
   "source": [
    "# ignore negligible finite differences\n",
    "fds = fds[:6]"
   ],
   "metadata": {
    "collapsed": false,
    "ExecuteTime": {
     "start_time": "2023-04-09T21:05:26.539162Z",
     "end_time": "2023-04-09T21:05:26.547621Z"
    }
   }
  },
  {
   "cell_type": "code",
   "execution_count": 140,
   "outputs": [
    {
     "name": "stdout",
     "output_type": "stream",
     "text": [
      "[1.6532, 0.8027, 0.0512, -0.0015, -0.0001, 0.0001]\n"
     ]
    }
   ],
   "source": [
    "print([round(v, 4) for v in fds])"
   ],
   "metadata": {
    "collapsed": false,
    "ExecuteTime": {
     "start_time": "2023-04-09T21:05:29.836255Z",
     "end_time": "2023-04-09T21:05:29.839331Z"
    }
   }
  },
  {
   "cell_type": "code",
   "execution_count": 147,
   "outputs": [],
   "source": [
    "def get_p_by_fd(fds, x0, y0, h):\n",
    "    fds = copy(fds)\n",
    "\n",
    "    def p(x, util=False):\n",
    "        t = (x - x0) / h\n",
    "        if util:\n",
    "            print('t = {:.4f}'.format(t))\n",
    "\n",
    "        res = y0\n",
    "        t_product = 1\n",
    "        factorial = 1\n",
    "\n",
    "        if util:\n",
    "            print('P(t) = {:.4f}'.format(res), end=' ')\n",
    "            t_prints = 't'\n",
    "\n",
    "        for i, fd in enumerate(fds):\n",
    "            t_product *= t - i\n",
    "            factorial *= i + 1\n",
    "\n",
    "            res += fd * t_product / factorial\n",
    "\n",
    "            if util:\n",
    "                print(f'+ {fd:.4f}/{factorial} * {t_prints}', end=' ')\n",
    "                t_prints += '(t - {:d})'.format(i+1)\n",
    "\n",
    "        return res\n",
    "    return p"
   ],
   "metadata": {
    "collapsed": false,
    "ExecuteTime": {
     "start_time": "2023-04-09T21:13:20.497209Z",
     "end_time": "2023-04-09T21:13:20.499479Z"
    }
   }
  },
  {
   "cell_type": "code",
   "execution_count": 154,
   "outputs": [],
   "source": [
    "polynomial = get_p_by_fd(fds, x0=samples[0][0], y0=samples[0][1], h=.2)"
   ],
   "metadata": {
    "collapsed": false,
    "ExecuteTime": {
     "start_time": "2023-04-09T21:18:23.475493Z",
     "end_time": "2023-04-09T21:18:23.480505Z"
    }
   }
  },
  {
   "cell_type": "code",
   "execution_count": 155,
   "outputs": [
    {
     "name": "stdout",
     "output_type": "stream",
     "text": [
      "t = 5.0000\n",
      "P(t) = -30.7568 + 1.6532/1 * t + 0.8027/2 * t(t - 1) + 0.0512/6 * t(t - 1)(t - 2) + -0.0015/24 * t(t - 1)(t - 2)(t - 3) + -0.0001/120 * t(t - 1)(t - 2)(t - 3)(t - 4) + 0.0001/720 * t(t - 1)(t - 2)(t - 3)(t - 4)(t - 5) "
     ]
    },
    {
     "data": {
      "text/plain": "-13.958924274663138"
     },
     "execution_count": 155,
     "metadata": {},
     "output_type": "execute_result"
    }
   ],
   "source": [
    "polynomial(5, True)"
   ],
   "metadata": {
    "collapsed": false,
    "ExecuteTime": {
     "start_time": "2023-04-09T21:18:31.477043Z",
     "end_time": "2023-04-09T21:18:31.482870Z"
    }
   }
  },
  {
   "cell_type": "code",
   "execution_count": 169,
   "outputs": [
    {
     "data": {
      "text/plain": "<AxesSubplot: >"
     },
     "execution_count": 169,
     "metadata": {},
     "output_type": "execute_result"
    },
    {
     "data": {
      "text/plain": "<Figure size 640x480 with 1 Axes>",
      "image/png": "[encoded data removed]"
     },
     "metadata": {},
     "output_type": "display_data"
    }
   ],
   "source": [
    "rendering_samples = take_samples(-1, 7, 101)\n",
    "rendering_dataframe = pd.DataFrame(((b, polynomial(a), 0) for a, b in rendering_samples), index=[a for a,b in rendering_samples], columns=['y = f(x)', 'y = P(x)', 'y = 0'])\n",
    "\n",
    "sns.lineplot(rendering_dataframe)"
   ],
   "metadata": {
    "collapsed": false,
    "ExecuteTime": {
     "start_time": "2023-04-09T21:24:27.271776Z",
     "end_time": "2023-04-09T21:24:27.453730Z"
    }
   }
  },
  {
   "cell_type": "code",
   "execution_count": 189,
   "outputs": [
    {
     "name": "stdout",
     "output_type": "stream",
     "text": [
      "x* = 5.417521315141161 + eps\n"
     ]
    }
   ],
   "source": [
    "eps = 1e-10\n",
    "root_approximation = 5.5 - polynomial(5.5)/((polynomial(5.5 + eps) - polynomial(5.5))/eps)\n",
    "print(f'x* = {root_approximation} + eps')"
   ],
   "metadata": {
    "collapsed": false,
    "ExecuteTime": {
     "start_time": "2023-04-09T22:20:38.809389Z",
     "end_time": "2023-04-09T22:20:38.814104Z"
    }
   }
  },
  {
   "cell_type": "code",
   "execution_count": null,
   "outputs": [],
   "source": [],
   "metadata": {
    "collapsed": false
   }
  }
 ],
 "metadata": {
  "kernelspec": {
   "display_name": "Python 3",
   "language": "python",
   "name": "python3"
  },
  "language_info": {
   "codemirror_mode": {
    "name": "ipython",
    "version": 2
   },
   "file_extension": ".py",
   "mimetype": "text/x-python",
   "name": "python",
   "nbconvert_exporter": "python",
   "pygments_lexer": "ipython2",
   "version": "2.7.6"
  }
 },
 "nbformat": 4,
 "nbformat_minor": 0
}
