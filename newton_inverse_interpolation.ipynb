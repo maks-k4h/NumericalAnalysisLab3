{
 "cells": [
  {
   "cell_type": "code",
   "execution_count": 1,
   "metadata": {
    "collapsed": true,
    "ExecuteTime": {
     "start_time": "2023-04-10T15:06:30.290341Z",
     "end_time": "2023-04-10T15:06:30.293633Z"
    }
   },
   "outputs": [],
   "source": [
    "from copy import copy\n",
    "import seaborn as sns\n",
    "import pandas as pd\n",
    "import math"
   ]
  },
  {
   "cell_type": "code",
   "execution_count": 2,
   "outputs": [],
   "source": [
    "def take_inverse_samples(a, b, n):\n",
    "    assert a < b and n > 1\n",
    "\n",
    "    def f(x):\n",
    "        return x ** 3 - 3 * x ** 2 - 17 * x + 22 + math.sin(x)\n",
    "\n",
    "    h = (b - a) / (n - 1)\n",
    "    table = []\n",
    "    for i in range(n):\n",
    "        xi = a + i * h\n",
    "        table.append((f(xi), xi))\n",
    "\n",
    "    return table"
   ],
   "metadata": {
    "collapsed": false,
    "ExecuteTime": {
     "start_time": "2023-04-10T15:06:30.295907Z",
     "end_time": "2023-04-10T15:06:30.297866Z"
    }
   }
  },
  {
   "cell_type": "code",
   "execution_count": 3,
   "outputs": [
    {
     "data": {
      "text/plain": "[Text(0.5, 0, 'y'), Text(0, 0.5, 'x')]"
     },
     "execution_count": 3,
     "metadata": {},
     "output_type": "execute_result"
    },
    {
     "data": {
      "text/plain": "<Figure size 640x480 with 1 Axes>",
      "image/png": "[encoded data removed]"
     },
     "metadata": {},
     "output_type": "display_data"
    }
   ],
   "source": [
    "rendering_samples = take_inverse_samples(4, 7, 30)\n",
    "rendering_dataframe = pd.DataFrame(((b) for a, b in rendering_samples), index=[a for a,b in rendering_samples], columns=['x=f_inv(y)'])\n",
    "sns.lineplot(rendering_dataframe).set(xlabel='y', ylabel='x')"
   ],
   "metadata": {
    "collapsed": false,
    "ExecuteTime": {
     "start_time": "2023-04-10T15:06:30.303740Z",
     "end_time": "2023-04-10T15:06:30.438247Z"
    }
   }
  },
  {
   "cell_type": "code",
   "execution_count": 4,
   "outputs": [
    {
     "data": {
      "text/plain": "          yi   xi\n0 -30.756802  4.0\n1 -29.103576  4.2\n2 -26.647602  4.4\n3 -23.337691  4.6\n4 -19.124165  4.8\n5 -13.958924  5.0\n6  -7.795455  5.2\n7  -0.588764  5.4\n8   7.704733  5.6\n9  17.127398  5.8",
      "text/html": "<div>\n<style scoped>\n    .dataframe tbody tr th:only-of-type {\n        vertical-align: middle;\n    }\n\n    .dataframe tbody tr th {\n        vertical-align: top;\n    }\n\n    .dataframe thead th {\n        text-align: right;\n    }\n</style>\n<table border=\"1\" class=\"dataframe\">\n  <thead>\n    <tr style=\"text-align: right;\">\n      <th></th>\n      <th>yi</th>\n      <th>xi</th>\n    </tr>\n  </thead>\n  <tbody>\n    <tr>\n      <th>0</th>\n      <td>-30.756802</td>\n      <td>4.0</td>\n    </tr>\n    <tr>\n      <th>1</th>\n      <td>-29.103576</td>\n      <td>4.2</td>\n    </tr>\n    <tr>\n      <th>2</th>\n      <td>-26.647602</td>\n      <td>4.4</td>\n    </tr>\n    <tr>\n      <th>3</th>\n      <td>-23.337691</td>\n      <td>4.6</td>\n    </tr>\n    <tr>\n      <th>4</th>\n      <td>-19.124165</td>\n      <td>4.8</td>\n    </tr>\n    <tr>\n      <th>5</th>\n      <td>-13.958924</td>\n      <td>5.0</td>\n    </tr>\n    <tr>\n      <th>6</th>\n      <td>-7.795455</td>\n      <td>5.2</td>\n    </tr>\n    <tr>\n      <th>7</th>\n      <td>-0.588764</td>\n      <td>5.4</td>\n    </tr>\n    <tr>\n      <th>8</th>\n      <td>7.704733</td>\n      <td>5.6</td>\n    </tr>\n    <tr>\n      <th>9</th>\n      <td>17.127398</td>\n      <td>5.8</td>\n    </tr>\n  </tbody>\n</table>\n</div>"
     },
     "execution_count": 4,
     "metadata": {},
     "output_type": "execute_result"
    }
   ],
   "source": [
    "samples = take_inverse_samples(4, 5.8, 10)\n",
    "pd.DataFrame(samples, columns=['yi', 'xi'])"
   ],
   "metadata": {
    "collapsed": false,
    "ExecuteTime": {
     "start_time": "2023-04-10T15:06:30.438378Z",
     "end_time": "2023-04-10T15:06:30.443788Z"
    }
   }
  },
  {
   "cell_type": "code",
   "execution_count": 5,
   "outputs": [],
   "source": [
    "def get_divided_differences(samples, last_row=False, util=False):\n",
    "    table = [[y for y, x in samples], [x for y, x in samples]]\n",
    "\n",
    "    for o in range(len(table[0])-1):\n",
    "        new_fd = []\n",
    "        for i in range(len(table[-1]) - 1):\n",
    "            new_fd.append((table[-1][i+1] - table[-1][i]) / (table[0][i+1+o] - table[0][i]))\n",
    "        table.append(new_fd)\n",
    "\n",
    "    if util:\n",
    "        print('\\t{:4}'.format('y'), end='')\n",
    "        print('\\t{:8}'.format('x'), end='')\n",
    "        for i in range(1, len(table)-1):\n",
    "            print('{:8}'.format('d' + str(i)), end='')\n",
    "        print()\n",
    "\n",
    "        for i in range(len(table[0])):\n",
    "            print('{:8.4f}'.format(table[0][i]), end='')\n",
    "            for j in range(1, len(table[0]) - i + 1):\n",
    "                print('{:8.4f}'.format(table[j][i]), end='')\n",
    "            print()\n",
    "\n",
    "    return [df[-1 if last_row else 0] for df in table[2:]]"
   ],
   "metadata": {
    "collapsed": false,
    "ExecuteTime": {
     "start_time": "2023-04-10T15:06:30.448568Z",
     "end_time": "2023-04-10T15:06:30.450342Z"
    }
   }
  },
  {
   "cell_type": "code",
   "execution_count": 6,
   "outputs": [
    {
     "name": "stdout",
     "output_type": "stream",
     "text": [
      "\ty   \tx       d1      d2      d3      d4      d5      d6      d7      d8      d9      \n",
      "-30.7568  4.0000  0.1210 -0.0096  0.0008 -0.0001  0.0000 -0.0000  0.0000 -0.0000  0.0000\n",
      "-29.1036  4.2000  0.0814 -0.0036  0.0002 -0.0000  0.0000 -0.0000  0.0000 -0.0000\n",
      "-26.6476  4.4000  0.0604 -0.0017  0.0001 -0.0000  0.0000 -0.0000  0.0000\n",
      "-23.3377  4.6000  0.0475 -0.0009  0.0000 -0.0000  0.0000 -0.0000\n",
      "-19.1242  4.8000  0.0387 -0.0006  0.0000 -0.0000  0.0000\n",
      "-13.9589  5.0000  0.0324 -0.0004  0.0000 -0.0000\n",
      " -7.7955  5.2000  0.0278 -0.0002  0.0000\n",
      " -0.5888  5.4000  0.0241 -0.0002\n",
      "  7.7047  5.6000  0.0212\n",
      " 17.1274  5.8000\n"
     ]
    }
   ],
   "source": [
    "dds = get_divided_differences(samples, last_row=True, util=True)"
   ],
   "metadata": {
    "collapsed": false,
    "ExecuteTime": {
     "start_time": "2023-04-10T15:06:30.451157Z",
     "end_time": "2023-04-10T15:06:30.453623Z"
    }
   }
  },
  {
   "cell_type": "code",
   "execution_count": 7,
   "outputs": [
    {
     "name": "stdout",
     "output_type": "stream",
     "text": [
      "[0.021225418869761755, -0.00016311988611731986]\n"
     ]
    }
   ],
   "source": [
    "dds = dds[:2]\n",
    "print(dds)"
   ],
   "metadata": {
    "collapsed": false,
    "ExecuteTime": {
     "start_time": "2023-04-10T15:06:30.454870Z",
     "end_time": "2023-04-10T15:06:30.457103Z"
    }
   }
  },
  {
   "cell_type": "code",
   "execution_count": 7,
   "outputs": [],
   "source": [],
   "metadata": {
    "collapsed": false,
    "ExecuteTime": {
     "start_time": "2023-04-10T15:06:30.457531Z",
     "end_time": "2023-04-10T15:06:30.488562Z"
    }
   }
  },
  {
   "cell_type": "code",
   "execution_count": 13,
   "outputs": [],
   "source": [
    "def get_p_by_dds(dds, ys, xs, reverse=False):\n",
    "    dds = copy(dds)\n",
    "\n",
    "    def p(y, util=False):\n",
    "        if util:\n",
    "            print(f'y = {y:.4f}')\n",
    "\n",
    "        res = xs[-1 if reverse else 0]\n",
    "        x_prod = 1\n",
    "\n",
    "        if util:\n",
    "            print(f'P(y) = {res:.4f}', end=' ')\n",
    "            y_prints = ''\n",
    "\n",
    "        for i, dd in enumerate(dds):\n",
    "            x_prod *= y - ys[-i-1 if reverse else i]\n",
    "            res += dd * x_prod\n",
    "\n",
    "            if util:\n",
    "                y_prints += f'(y-{ys[-i-1 if reverse else i]:.4f})'\n",
    "                print(f'+ {dd:.4f}*{y_prints}', end=' ')\n",
    "\n",
    "        return res\n",
    "\n",
    "    return p"
   ],
   "metadata": {
    "collapsed": false,
    "ExecuteTime": {
     "start_time": "2023-04-10T15:19:50.716406Z",
     "end_time": "2023-04-10T15:19:50.721035Z"
    }
   }
  },
  {
   "cell_type": "code",
   "execution_count": 14,
   "outputs": [],
   "source": [
    "p = get_p_by_dds(dds, [y for y, x in samples], [x for y, x in samples], reverse=True)"
   ],
   "metadata": {
    "collapsed": false,
    "ExecuteTime": {
     "start_time": "2023-04-10T15:19:50.940574Z",
     "end_time": "2023-04-10T15:19:50.945113Z"
    }
   }
  },
  {
   "cell_type": "code",
   "execution_count": 15,
   "outputs": [
    {
     "name": "stdout",
     "output_type": "stream",
     "text": [
      "y = 0.0000\n",
      "P(y) = 5.8000 + 0.0212*(y-17.1274) + -0.0002*(y-17.1274)(y-7.7047) "
     ]
    },
    {
     "data": {
      "text/plain": "5.414938175249858"
     },
     "execution_count": 15,
     "metadata": {},
     "output_type": "execute_result"
    }
   ],
   "source": [
    "p(0, True)"
   ],
   "metadata": {
    "collapsed": false,
    "ExecuteTime": {
     "start_time": "2023-04-10T15:19:51.506140Z",
     "end_time": "2023-04-10T15:19:51.511453Z"
    }
   }
  },
  {
   "cell_type": "code",
   "execution_count": 11,
   "outputs": [
    {
     "data": {
      "text/plain": "[Text(0.5, 0, 'y'), Text(0, 0.5, 'x')]"
     },
     "execution_count": 11,
     "metadata": {},
     "output_type": "execute_result"
    },
    {
     "data": {
      "text/plain": "<Figure size 640x480 with 1 Axes>",
      "image/png": "[encoded data removed]"
     },
     "metadata": {},
     "output_type": "display_data"
    }
   ],
   "source": [
    "rendering_samples = take_inverse_samples(4, 6, 30)\n",
    "rendering_dataframe = pd.DataFrame(((b, p(a)) for a, b in rendering_samples), index=[a for a,b in rendering_samples], columns=['x=f_inv(y)', 'x=P(y)'])\n",
    "sns.lineplot(data=rendering_dataframe).set(xlabel='y', ylabel='x')"
   ],
   "metadata": {
    "collapsed": false,
    "ExecuteTime": {
     "start_time": "2023-04-10T15:06:30.481920Z",
     "end_time": "2023-04-10T15:06:30.670265Z"
    }
   }
  },
  {
   "cell_type": "code",
   "execution_count": 18,
   "outputs": [
    {
     "name": "stdout",
     "output_type": "stream",
     "text": [
      "P2(0) = 5.41494\n"
     ]
    }
   ],
   "source": [
    "print('P2(0) = {:.5f}'.format(p(0)))"
   ],
   "metadata": {
    "collapsed": false,
    "ExecuteTime": {
     "start_time": "2023-04-10T15:28:48.917095Z",
     "end_time": "2023-04-10T15:28:48.920585Z"
    }
   }
  }
 ],
 "metadata": {
  "kernelspec": {
   "display_name": "Python 3",
   "language": "python",
   "name": "python3"
  },
  "language_info": {
   "codemirror_mode": {
    "name": "ipython",
    "version": 2
   },
   "file_extension": ".py",
   "mimetype": "text/x-python",
   "name": "python",
   "nbconvert_exporter": "python",
   "pygments_lexer": "ipython2",
   "version": "2.7.6"
  }
 },
 "nbformat": 4,
 "nbformat_minor": 0
}
